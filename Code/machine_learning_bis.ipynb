{
 "cells": [
  {
   "cell_type": "code",
   "execution_count": 1,
   "metadata": {
    "collapsed": false
   },
   "outputs": [
    {
     "name": "stderr",
     "output_type": "stream",
     "text": [
      "C:\\Program Files\\Python 3.4\\lib\\site-packages\\sklearn\\cross_validation.py:44: DeprecationWarning: This module was deprecated in version 0.18 in favor of the model_selection module into which all the refactored classes and functions are moved. Also note that the interface of the new CV iterators are different from that of this module. This module will be removed in 0.20.\n",
      "  \"This module will be removed in 0.20.\", DeprecationWarning)\n",
      "C:\\Program Files\\Python 3.4\\lib\\site-packages\\sklearn\\grid_search.py:43: DeprecationWarning: This module was deprecated in version 0.18 in favor of the model_selection module into which all the refactored classes and functions are moved. This module will be removed in 0.20.\n",
      "  DeprecationWarning)\n"
     ]
    }
   ],
   "source": [
    "import matplotlib.pyplot as plt\n",
    "import seaborn as sns\n",
    "from matplotlib import cm as cm\n",
    "\n",
    "import pandas as pd\n",
    "import numpy as np\n",
    "\n",
    "from time import time, clock\n",
    "import itertools\n",
    "import re\n",
    "\n",
    "from sklearn.grid_search import GridSearchCV\n",
    "from sklearn.metrics import roc_auc_score\n",
    "from sklearn.model_selection import KFold\n",
    "from sklearn.cross_validation import train_test_split\n",
    "from sklearn.decomposition import PCA\n",
    "from sklearn.feature_selection import RFE\n",
    "\n",
    "from sklearn.lda import LDA\n",
    "from sklearn.naive_bayes import GaussianNB\n",
    "from sklearn.neural_network import MLPClassifier\n",
    "from sklearn.linear_model import SGDClassifier\n",
    "from sklearn.ensemble import RandomForestClassifier, AdaBoostClassifier, RandomForestRegressor\n",
    "from xgboost import XGBClassifier\n",
    "\n",
    "%matplotlib inline"
   ]
  },
  {
   "cell_type": "markdown",
   "metadata": {},
   "source": [
    "## Data loading and preprocessing"
   ]
  },
  {
   "cell_type": "code",
   "execution_count": null,
   "metadata": {
    "collapsed": true
   },
   "outputs": [],
   "source": [
    "path = 'C:/Users/Hoël/Documents/vrais documents/AIC/Biomed/Opioids/Data.raw/'"
   ]
  },
  {
   "cell_type": "code",
   "execution_count": 2,
   "metadata": {
    "collapsed": false
   },
   "outputs": [
    {
     "name": "stdout",
     "output_type": "stream",
     "text": [
      "(25000, 256)\n"
     ]
    },
    {
     "data": {
      "text/html": [
       "<div>\n",
       "<table border=\"1\" class=\"dataframe\">\n",
       "  <thead>\n",
       "    <tr style=\"text-align: right;\">\n",
       "      <th></th>\n",
       "      <th>NPI</th>\n",
       "      <th>Gender</th>\n",
       "      <th>State</th>\n",
       "      <th>Credentials</th>\n",
       "      <th>Specialty</th>\n",
       "      <th>ABILIFY</th>\n",
       "      <th>ACETAMINOPHEN.CODEINE</th>\n",
       "      <th>ACYCLOVIR</th>\n",
       "      <th>ADVAIR.DISKUS</th>\n",
       "      <th>AGGRENOX</th>\n",
       "      <th>...</th>\n",
       "      <th>VERAPAMIL.ER</th>\n",
       "      <th>VESICARE</th>\n",
       "      <th>VOLTAREN</th>\n",
       "      <th>VYTORIN</th>\n",
       "      <th>WARFARIN.SODIUM</th>\n",
       "      <th>XARELTO</th>\n",
       "      <th>ZETIA</th>\n",
       "      <th>ZIPRASIDONE.HCL</th>\n",
       "      <th>ZOLPIDEM.TARTRATE</th>\n",
       "      <th>Opioid.Prescriber</th>\n",
       "    </tr>\n",
       "  </thead>\n",
       "  <tbody>\n",
       "    <tr>\n",
       "      <th>0</th>\n",
       "      <td>1710982582</td>\n",
       "      <td>M</td>\n",
       "      <td>TX</td>\n",
       "      <td>DDS</td>\n",
       "      <td>Dentist</td>\n",
       "      <td>0</td>\n",
       "      <td>0</td>\n",
       "      <td>0</td>\n",
       "      <td>0</td>\n",
       "      <td>0</td>\n",
       "      <td>...</td>\n",
       "      <td>0</td>\n",
       "      <td>0</td>\n",
       "      <td>0</td>\n",
       "      <td>0</td>\n",
       "      <td>0</td>\n",
       "      <td>0</td>\n",
       "      <td>0</td>\n",
       "      <td>0</td>\n",
       "      <td>0</td>\n",
       "      <td>1</td>\n",
       "    </tr>\n",
       "    <tr>\n",
       "      <th>1</th>\n",
       "      <td>1245278100</td>\n",
       "      <td>F</td>\n",
       "      <td>AL</td>\n",
       "      <td>MD</td>\n",
       "      <td>General Surgery</td>\n",
       "      <td>0</td>\n",
       "      <td>0</td>\n",
       "      <td>0</td>\n",
       "      <td>0</td>\n",
       "      <td>0</td>\n",
       "      <td>...</td>\n",
       "      <td>0</td>\n",
       "      <td>0</td>\n",
       "      <td>0</td>\n",
       "      <td>0</td>\n",
       "      <td>0</td>\n",
       "      <td>0</td>\n",
       "      <td>0</td>\n",
       "      <td>0</td>\n",
       "      <td>35</td>\n",
       "      <td>1</td>\n",
       "    </tr>\n",
       "    <tr>\n",
       "      <th>2</th>\n",
       "      <td>1427182161</td>\n",
       "      <td>F</td>\n",
       "      <td>NY</td>\n",
       "      <td>M.D.</td>\n",
       "      <td>General Practice</td>\n",
       "      <td>0</td>\n",
       "      <td>0</td>\n",
       "      <td>0</td>\n",
       "      <td>0</td>\n",
       "      <td>0</td>\n",
       "      <td>...</td>\n",
       "      <td>0</td>\n",
       "      <td>0</td>\n",
       "      <td>0</td>\n",
       "      <td>0</td>\n",
       "      <td>0</td>\n",
       "      <td>0</td>\n",
       "      <td>0</td>\n",
       "      <td>0</td>\n",
       "      <td>25</td>\n",
       "      <td>0</td>\n",
       "    </tr>\n",
       "    <tr>\n",
       "      <th>3</th>\n",
       "      <td>1669567541</td>\n",
       "      <td>M</td>\n",
       "      <td>AZ</td>\n",
       "      <td>MD</td>\n",
       "      <td>Internal Medicine</td>\n",
       "      <td>0</td>\n",
       "      <td>43</td>\n",
       "      <td>0</td>\n",
       "      <td>0</td>\n",
       "      <td>0</td>\n",
       "      <td>...</td>\n",
       "      <td>0</td>\n",
       "      <td>0</td>\n",
       "      <td>0</td>\n",
       "      <td>0</td>\n",
       "      <td>0</td>\n",
       "      <td>0</td>\n",
       "      <td>0</td>\n",
       "      <td>0</td>\n",
       "      <td>0</td>\n",
       "      <td>1</td>\n",
       "    </tr>\n",
       "    <tr>\n",
       "      <th>4</th>\n",
       "      <td>1679650949</td>\n",
       "      <td>M</td>\n",
       "      <td>NV</td>\n",
       "      <td>M.D.</td>\n",
       "      <td>Hematology/Oncology</td>\n",
       "      <td>0</td>\n",
       "      <td>0</td>\n",
       "      <td>0</td>\n",
       "      <td>0</td>\n",
       "      <td>0</td>\n",
       "      <td>...</td>\n",
       "      <td>0</td>\n",
       "      <td>0</td>\n",
       "      <td>0</td>\n",
       "      <td>0</td>\n",
       "      <td>17</td>\n",
       "      <td>28</td>\n",
       "      <td>0</td>\n",
       "      <td>0</td>\n",
       "      <td>0</td>\n",
       "      <td>1</td>\n",
       "    </tr>\n",
       "  </tbody>\n",
       "</table>\n",
       "<p>5 rows × 256 columns</p>\n",
       "</div>"
      ],
      "text/plain": [
       "          NPI Gender State Credentials            Specialty  ABILIFY  \\\n",
       "0  1710982582      M    TX         DDS              Dentist        0   \n",
       "1  1245278100      F    AL          MD      General Surgery        0   \n",
       "2  1427182161      F    NY        M.D.     General Practice        0   \n",
       "3  1669567541      M    AZ          MD    Internal Medicine        0   \n",
       "4  1679650949      M    NV        M.D.  Hematology/Oncology        0   \n",
       "\n",
       "   ACETAMINOPHEN.CODEINE  ACYCLOVIR  ADVAIR.DISKUS  AGGRENOX  \\\n",
       "0                      0          0              0         0   \n",
       "1                      0          0              0         0   \n",
       "2                      0          0              0         0   \n",
       "3                     43          0              0         0   \n",
       "4                      0          0              0         0   \n",
       "\n",
       "         ...          VERAPAMIL.ER  VESICARE  VOLTAREN  VYTORIN  \\\n",
       "0        ...                     0         0         0        0   \n",
       "1        ...                     0         0         0        0   \n",
       "2        ...                     0         0         0        0   \n",
       "3        ...                     0         0         0        0   \n",
       "4        ...                     0         0         0        0   \n",
       "\n",
       "   WARFARIN.SODIUM  XARELTO  ZETIA  ZIPRASIDONE.HCL  ZOLPIDEM.TARTRATE  \\\n",
       "0                0        0      0                0                  0   \n",
       "1                0        0      0                0                 35   \n",
       "2                0        0      0                0                 25   \n",
       "3                0        0      0                0                  0   \n",
       "4               17       28      0                0                  0   \n",
       "\n",
       "   Opioid.Prescriber  \n",
       "0                  1  \n",
       "1                  1  \n",
       "2                  0  \n",
       "3                  1  \n",
       "4                  1  \n",
       "\n",
       "[5 rows x 256 columns]"
      ]
     },
     "execution_count": 2,
     "metadata": {},
     "output_type": "execute_result"
    }
   ],
   "source": [
    "df = pd.read_csv(path+'prescriber-info.csv')\n",
    "print(df.shape)\n",
    "df.head()"
   ]
  },
  {
   "cell_type": "code",
   "execution_count": 3,
   "metadata": {
    "collapsed": false
   },
   "outputs": [
    {
     "name": "stdout",
     "output_type": "stream",
     "text": [
      "(113, 2)\n"
     ]
    },
    {
     "data": {
      "text/html": [
       "<div>\n",
       "<table border=\"1\" class=\"dataframe\">\n",
       "  <thead>\n",
       "    <tr style=\"text-align: right;\">\n",
       "      <th></th>\n",
       "      <th>Drug Name</th>\n",
       "      <th>Generic Name</th>\n",
       "    </tr>\n",
       "  </thead>\n",
       "  <tbody>\n",
       "    <tr>\n",
       "      <th>0</th>\n",
       "      <td>ABSTRAL</td>\n",
       "      <td>FENTANYL CITRATE</td>\n",
       "    </tr>\n",
       "    <tr>\n",
       "      <th>1</th>\n",
       "      <td>ACETAMINOPHEN-CODEINE</td>\n",
       "      <td>ACETAMINOPHEN WITH CODEINE</td>\n",
       "    </tr>\n",
       "    <tr>\n",
       "      <th>2</th>\n",
       "      <td>ACTIQ</td>\n",
       "      <td>FENTANYL CITRATE</td>\n",
       "    </tr>\n",
       "    <tr>\n",
       "      <th>3</th>\n",
       "      <td>ASCOMP WITH CODEINE</td>\n",
       "      <td>CODEINE/BUTALBITAL/ASA/CAFFEIN</td>\n",
       "    </tr>\n",
       "    <tr>\n",
       "      <th>4</th>\n",
       "      <td>ASPIRIN-CAFFEINE-DIHYDROCODEIN</td>\n",
       "      <td>DIHYDROCODEINE/ASPIRIN/CAFFEIN</td>\n",
       "    </tr>\n",
       "  </tbody>\n",
       "</table>\n",
       "</div>"
      ],
      "text/plain": [
       "                        Drug Name                    Generic Name\n",
       "0                         ABSTRAL                FENTANYL CITRATE\n",
       "1           ACETAMINOPHEN-CODEINE      ACETAMINOPHEN WITH CODEINE\n",
       "2                           ACTIQ                FENTANYL CITRATE\n",
       "3             ASCOMP WITH CODEINE  CODEINE/BUTALBITAL/ASA/CAFFEIN\n",
       "4  ASPIRIN-CAFFEINE-DIHYDROCODEIN  DIHYDROCODEINE/ASPIRIN/CAFFEIN"
      ]
     },
     "execution_count": 3,
     "metadata": {},
     "output_type": "execute_result"
    }
   ],
   "source": [
    "opioids = pd.read_csv(path+'opioids.csv')\n",
    "print(opioids.shape)\n",
    "opioids.head()"
   ]
  },
  {
   "cell_type": "code",
   "execution_count": 4,
   "metadata": {
    "collapsed": false
   },
   "outputs": [
    {
     "name": "stdout",
     "output_type": "stream",
     "text": [
      "there are 11 opioids cited among the drugs\n"
     ]
    }
   ],
   "source": [
    "#replace hyphens and spaces with periods to match the dataset\n",
    "opioids_names = list(re.sub(r'[-\\s]','.',x) for x in opioids.values[:,0])\n",
    "#determe how many/ what opioids are mentioned in the data\n",
    "df_cols = list(df.columns)\n",
    "common_drugs = [name for name in df_cols if name in opioids_names]\n",
    "print(\"there are %d opioids cited among the drugs\"%len(common_drugs))"
   ]
  },
  {
   "cell_type": "code",
   "execution_count": 5,
   "metadata": {
    "collapsed": false
   },
   "outputs": [],
   "source": [
    "#removing opioid prescriptions from the data, otherwise we'll be cheating!\n",
    "df_cols_no_opioids = [col for col in df_cols if not col in opioids_names]\n",
    "df_no_opioids = df[df_cols_no_opioids].copy()"
   ]
  },
  {
   "cell_type": "code",
   "execution_count": 6,
   "metadata": {
    "collapsed": false
   },
   "outputs": [],
   "source": [
    "#factorizing categorical variables\n",
    "uniques = dict()\n",
    "Categorical=['Gender','State','Credentials','Specialty']\n",
    "for col in Categorical:\n",
    "    uniques[col] = df_no_opioids[col].unique()\n",
    "    df_no_opioids[col] = pd.factorize(df_no_opioids[col])[0]"
   ]
  },
  {
   "cell_type": "markdown",
   "metadata": {},
   "source": [
    "## Classifiers comparison"
   ]
  },
  {
   "cell_type": "code",
   "execution_count": 7,
   "metadata": {
    "collapsed": false
   },
   "outputs": [],
   "source": [
    "#split our dataset into train/validation/test sets\n",
    "X = df_no_opioids.drop('Opioid.Prescriber',axis = 1)\n",
    "y = df_no_opioids['Opioid.Prescriber']\n",
    "\n",
    "X_train, X_test, y_train, y_test = train_test_split(X,y, test_size = 0.2, random_state=42)\n",
    "nsplits = 5\n",
    "kfold = KFold(n_splits = nsplits)"
   ]
  },
  {
   "cell_type": "code",
   "execution_count": 14,
   "metadata": {
    "collapsed": false
   },
   "outputs": [
    {
     "name": "stdout",
     "output_type": "stream",
     "text": [
      "AUC: 0.9170\n",
      "Mean accuracy : 0.8366\n"
     ]
    }
   ],
   "source": [
    "model = RandomForestClassifier(n_estimators=150, criterion ='entropy')\n",
    "model.fit(X_train,y_train)\n",
    "\n",
    "y_probas = [proba[1] for proba in model.predict_proba(X_test)]\n",
    "y_pred = model.predict(X_test)\n",
    "\n",
    "print(\"AUC: %.4f\" %roc_auc_score(y_test,y_probas))\n",
    "print(\"Mean accuracy : %.4f\" %np.mean(y_pred == y_test))"
   ]
  },
  {
   "cell_type": "code",
   "execution_count": 27,
   "metadata": {
    "collapsed": false
   },
   "outputs": [
    {
     "name": "stdout",
     "output_type": "stream",
     "text": [
      "AUC: 0.9161\n",
      "Mean accuracy : 0.8402\n"
     ]
    }
   ],
   "source": [
    "model = RandomForestClassifier(n_estimators=150, criterion ='gini')\n",
    "model.fit(X_train,y_train)\n",
    "\n",
    "y_probas = [proba[1] for proba in model.predict_proba(X_test)]\n",
    "y_pred = model.predict(X_test)\n",
    "\n",
    "print(\"AUC: %.4f\" %roc_auc_score(y_test,y_probas))\n",
    "print(\"Mean accuracy : %.4f\" %np.mean(y_pred == y_test))"
   ]
  },
  {
   "cell_type": "code",
   "execution_count": 15,
   "metadata": {
    "collapsed": false
   },
   "outputs": [
    {
     "name": "stdout",
     "output_type": "stream",
     "text": [
      "AUC: 0.9015\n",
      "Mean accuracy : 0.8230\n"
     ]
    }
   ],
   "source": [
    "model = XGBClassifier()\n",
    "model.fit(X_train,y_train)\n",
    "\n",
    "y_probas = [proba[1] for proba in model.predict_proba(X_test)]\n",
    "y_pred = model.predict(X_test)\n",
    "\n",
    "print(\"AUC: %.4f\" %roc_auc_score(y_test,y_probas))\n",
    "print(\"Mean accuracy : %.4f\" %np.mean(y_pred == y_test))"
   ]
  },
  {
   "cell_type": "code",
   "execution_count": 16,
   "metadata": {
    "collapsed": false
   },
   "outputs": [
    {
     "name": "stdout",
     "output_type": "stream",
     "text": [
      "AUC: 0.8987\n",
      "Mean accuracy : 0.8186\n"
     ]
    }
   ],
   "source": [
    "model = AdaBoostClassifier(n_estimators=600, learning_rate=0.5, random_state=88)\n",
    "model.fit(X_train,y_train)\n",
    "\n",
    "y_probas = [proba[1] for proba in model.predict_proba(X_test)]\n",
    "y_pred = model.predict(X_test)\n",
    "\n",
    "print(\"AUC: %.4f\" %roc_auc_score(y_test,y_probas))\n",
    "print(\"Mean accuracy : %.4f\" %np.mean(y_pred == y_test))"
   ]
  },
  {
   "cell_type": "code",
   "execution_count": 22,
   "metadata": {
    "collapsed": false
   },
   "outputs": [
    {
     "name": "stdout",
     "output_type": "stream",
     "text": [
      "AUC: 0.5000\n",
      "Mean accuracy : 0.5850\n"
     ]
    }
   ],
   "source": [
    "model = MLPClassifier(random_state=55)\n",
    "model.fit(X_train,y_train)\n",
    "\n",
    "y_probas = [proba[1] for proba in model.predict_proba(X_test)]\n",
    "y_pred = model.predict(X_test)\n",
    "\n",
    "print(\"AUC: %.4f\" %roc_auc_score(y_test,y_probas))\n",
    "print(\"Mean accuracy : %.4f\" %np.mean(y_pred == y_test))"
   ]
  },
  {
   "cell_type": "code",
   "execution_count": 24,
   "metadata": {
    "collapsed": false
   },
   "outputs": [
    {
     "name": "stdout",
     "output_type": "stream",
     "text": [
      "AUC: 0.8092\n",
      "Mean accuracy : 0.7100\n"
     ]
    }
   ],
   "source": [
    "model = LDA()\n",
    "model.fit(X_train,y_train)\n",
    "\n",
    "y_probas = [proba[1] for proba in model.predict_proba(X_test)]\n",
    "y_pred = model.predict(X_test)\n",
    "\n",
    "print(\"AUC: %.4f\" %roc_auc_score(y_test,y_probas))\n",
    "print(\"Mean accuracy : %.4f\" %np.mean(y_pred == y_test))"
   ]
  },
  {
   "cell_type": "code",
   "execution_count": 9,
   "metadata": {
    "collapsed": false
   },
   "outputs": [
    {
     "name": "stdout",
     "output_type": "stream",
     "text": [
      "AUC: 0.5135\n",
      "Mean accuracy : 0.5850\n"
     ]
    }
   ],
   "source": [
    "model = GaussianNB()\n",
    "model.fit(X_train,y_train)\n",
    "\n",
    "y_probas = [proba[1] for proba in model.predict_proba(X_test)]\n",
    "y_pred = model.predict(X_test)\n",
    "\n",
    "print(\"AUC: %.4f\" %roc_auc_score(y_test,y_probas))\n",
    "print(\"Mean accuracy : %.4f\" %np.mean(y_pred == y_test))"
   ]
  },
  {
   "cell_type": "code",
   "execution_count": 8,
   "metadata": {
    "collapsed": false
   },
   "outputs": [
    {
     "name": "stdout",
     "output_type": "stream",
     "text": [
      "AUC: 0.5000\n",
      "Mean accuracy : 0.5850\n"
     ]
    }
   ],
   "source": [
    "model = SGDClassifier(loss = 'log')\n",
    "model.fit(X_train,y_train)\n",
    "\n",
    "y_probas = [proba[1] for proba in model.predict_proba(X_test)]\n",
    "y_pred = model.predict(X_test)\n",
    "\n",
    "print(\"AUC: %.4f\" %roc_auc_score(y_test,y_probas))\n",
    "print(\"Mean accuracy : %.4f\" %np.mean(y_pred == y_test))"
   ]
  },
  {
   "cell_type": "code",
   "execution_count": null,
   "metadata": {
    "collapsed": true
   },
   "outputs": [],
   "source": [
    "model = RandomForestClassifier(n_estimators=150, criterion ='entropy')\n",
    "selector = RFE(estimator=model)\n",
    "selector = selector.fit(X_train, y_train)\n",
    "\n",
    "y_probas = [proba[1] for proba in selector.predict_proba(X_test)]\n",
    "y_pred = selector.predict(X_test)\n",
    "print(\"AUC: %.4f\" %roc_auc_score(y_test,y_probas))\n",
    "print(\"Mean accuracy : %.4f\" %np.mean(y_pred == y_test))"
   ]
  },
  {
   "cell_type": "markdown",
   "metadata": {},
   "source": [
    "# Dimensionality reduction"
   ]
  },
  {
   "cell_type": "code",
   "execution_count": 89,
   "metadata": {
    "collapsed": false
   },
   "outputs": [
    {
     "name": "stdout",
     "output_type": "stream",
     "text": [
      "For 1 components\n",
      "mean AUC: 0.5086\n",
      "For 2 components\n",
      "mean AUC: 0.5086\n",
      "For 3 components\n",
      "mean AUC: 0.5086\n",
      "For 4 components\n",
      "mean AUC: 0.5086\n",
      "For 5 components\n",
      "mean AUC: 0.5086\n",
      "For 6 components\n",
      "mean AUC: 0.5086\n",
      "For 7 components\n",
      "mean AUC: 0.5086\n",
      "For 8 components\n",
      "mean AUC: 0.5086\n",
      "For 9 components\n",
      "mean AUC: 0.5086\n",
      "For 10 components\n",
      "mean AUC: 0.5086\n",
      "For 11 components\n",
      "mean AUC: 0.5086\n",
      "For 12 components\n",
      "mean AUC: 0.5086\n",
      "For 13 components\n",
      "mean AUC: 0.5086\n",
      "For 14 components\n",
      "mean AUC: 0.5086\n",
      "For 15 components\n",
      "mean AUC: 0.5086\n",
      "For 16 components\n",
      "mean AUC: 0.5086\n",
      "For 17 components\n",
      "mean AUC: 0.5086\n",
      "For 18 components\n",
      "mean AUC: 0.5086\n",
      "For 19 components\n",
      "mean AUC: 0.5086\n",
      "Computation time: 1551.33s\n"
     ]
    },
    {
     "data": {
      "text/plain": [
       "<matplotlib.text.Text at 0x19811f60>"
      ]
     },
     "execution_count": 89,
     "metadata": {},
     "output_type": "execute_result"
    },
    {
     "data": {
      "image/png": "[encoded data removed]",
      "text/plain": [
       "<matplotlib.figure.Figure at 0x1950a080>"
      ]
     },
     "metadata": {},
     "output_type": "display_data"
    },
    {
     "data": {
      "image/png": "[encoded data removed]",
      "text/plain": [
       "<matplotlib.figure.Figure at 0x197faef0>"
      ]
     },
     "metadata": {},
     "output_type": "display_data"
    }
   ],
   "source": [
    "# Optimisation du nombre de composantes dans la PCA\n",
    "tps = clock()\n",
    "scores = []\n",
    "times = []\n",
    "model = RandomForestClassifier(n_estimators=150, criterion ='entropy')\n",
    "max_comp = 20\n",
    "for n_comp in range(1,max_comp):\n",
    "    tps2 = clock()\n",
    "    pca = PCA(n_components=n_comp)\n",
    "    score = 0\n",
    "    for train_index,test_index in kfold.split(X):\n",
    "        Xtr,Ytr = X.loc[train_index],y.loc[train_index]\n",
    "        Xte,Yte = X.loc[test_index],y.loc[test_index]\n",
    "    \n",
    "        Xtr_new = pca.fit_transform(Xtr,Ytr)\n",
    "        model.fit(Xtr_new,Ytr)\n",
    "    \n",
    "        Xte_new = pca.transform(Xte)\n",
    "        y_probas = [proba[1] for proba in model.predict_proba(Xte_new)]\n",
    "        score += roc_auc_score(Yte,y_probas)\n",
    "    \n",
    "    score /= nsplits\n",
    "    scores.append(score)\n",
    "    times.append(clock()-tps2)\n",
    "    print(\"For %i components\"%n_comp)\n",
    "    print(\"mean AUC: %.4f\"%score)\n",
    "\n",
    "print(\"Computation time: %.2fs\" %(clock()-tps))\n",
    "plt.plot(np.arange(1,max_comp),scores)\n",
    "plt.title(\"AUC wrt the number of PCA components\")\n",
    "plt.xlabel(\"Number of PCA components\")\n",
    "plt.ylabel(\"AUC score\")\n",
    "plt.figure()\n",
    "plt.plot(np.arange(1,max_comp),times)\n",
    "plt.title(\"Computation time wrt the number of PCA components\")\n",
    "plt.xlabel(\"Number of PCA components\")\n",
    "plt.ylabel(\"Computation time\")"
   ]
  },
  {
   "cell_type": "code",
   "execution_count": null,
   "metadata": {
    "collapsed": true
   },
   "outputs": [],
   "source": [
    "# Optimization of the number of kept features in RFE method\n",
    "tps = clock()\n",
    "scores = []\n",
    "times = []\n",
    "model = RandomForestClassifier(n_estimators=150, criterion ='entropy')\n",
    "max_comp = 20\n",
    "for n_features in range(1,max_comp):\n",
    "    tps2 = clock()\n",
    "    feature_selector = RFE(model, n_features_to_select = n_features)\n",
    "    score = 0\n",
    "    for train_index,test_index in kfold.split(X):\n",
    "        Xtr,Ytr = X.loc[train_index],y.loc[train_index]\n",
    "        Xte,Yte = X.loc[test_index],y.loc[test_index]\n",
    "    \n",
    "        Xtr_new = feature_selector.fit_transform(Xtr,Ytr)\n",
    "        model.fit(Xtr_new,Ytr)\n",
    "    \n",
    "        Xte_new = feature_selector.transform(Xte)\n",
    "        y_probas = [proba[1] for proba in model.predict_proba(Xte_new)]\n",
    "        score += roc_auc_score(Yte,y_probas)\n",
    "    \n",
    "    score /= nsplits\n",
    "    scores.append(score)\n",
    "    times.append(clock()-tps2)\n",
    "    print(\"For %i components\"%n_comp)\n",
    "    print(\"mean AUC: %.4f\"%accuracy)\n",
    "\n",
    "print(\"Computation time: %.2fs\" %(clock()-tps))\n",
    "plt.plot(np.arange(1,max_comp),scores)\n",
    "plt.title(\"AUC wrt the number of PCA components\")\n",
    "plt.xlabel(\"Number of PCA components\")\n",
    "plt.ylabel(\"AUC score\")\n",
    "plt.figure()\n",
    "plt.plot(np.arange(1,max_comp),times)\n",
    "plt.title(\"Computation time wrt the number of PCA components\")\n",
    "plt.xlabel(\"Number of PCA components\")\n",
    "plt.ylabel(\"Computation time\")"
   ]
  },
  {
   "cell_type": "markdown",
   "metadata": {},
   "source": [
    "# Manual threshold"
   ]
  },
  {
   "cell_type": "code",
   "execution_count": 88,
   "metadata": {
    "collapsed": false
   },
   "outputs": [
    {
     "name": "stdout",
     "output_type": "stream",
     "text": [
      "Meilleure précision obtenue: 0.8382\n",
      "Seuil correspondant: 0.52\n"
     ]
    },
    {
     "data": {
      "text/plain": [
       "<matplotlib.text.Text at 0x197c99e8>"
      ]
     },
     "execution_count": 88,
     "metadata": {},
     "output_type": "execute_result"
    },
    {
     "data": {
      "image/png": "[encoded data removed]",
      "text/plain": [
       "<matplotlib.figure.Figure at 0x196b51d0>"
      ]
     },
     "metadata": {},
     "output_type": "display_data"
    }
   ],
   "source": [
    "# Optimisation du threshold dans la RF\n",
    "model = RandomForestClassifier(n_estimators=150, criterion ='entropy')\n",
    "accuracies = []\n",
    "max_acc = 0\n",
    "\n",
    "Xtr, Xte, Ytr, Yte = train_test_split(X,y, test_size = 0.2, random_state=42)\n",
    "model.fit(Xtr,Ytr)\n",
    "y_probas = model.predict_proba(Xte)\n",
    "y_probas = [proba[1] for proba in model.predict_proba(Xte)]\n",
    "\n",
    "for threshold in np.arange(0.,1.,0.01):\n",
    "    y_pred = y_probas>threshold\n",
    "    accuracy = np.sum(y_pred == Yte)/len(Yte)\n",
    "    accuracies.append(accuracy)\n",
    "    if accuracy > max_acc:\n",
    "        max_acc = accuracy\n",
    "        best_thresh = threshold\n",
    "\n",
    "print(\"Best accuracy: %.4f\" %max_acc)\n",
    "print(\"Corresponding threshold: %.2f\" %best_thresh)\n",
    "plt.plot(np.arange(0,1,0.01),accuracies)\n",
    "plt.xlabel(\"Threshold\")\n",
    "plt.ylabel(\"Accuracy\")\n",
    "plt.title(\"Accuracy wrt the threshold\")"
   ]
  },
  {
   "cell_type": "markdown",
   "metadata": {},
   "source": [
    "# Overfitting"
   ]
  },
  {
   "cell_type": "code",
   "execution_count": 85,
   "metadata": {
    "collapsed": false
   },
   "outputs": [
    {
     "name": "stdout",
     "output_type": "stream",
     "text": [
      "Temps d'exécution: 358.28s\n"
     ]
    },
    {
     "data": {
      "text/plain": [
       "<matplotlib.text.Text at 0x19498ac8>"
      ]
     },
     "execution_count": 85,
     "metadata": {},
     "output_type": "execute_result"
    },
    {
     "data": {
      "image/png": "[encoded data removed]",
      "text/plain": [
       "<matplotlib.figure.Figure at 0x1950aba8>"
      ]
     },
     "metadata": {},
     "output_type": "display_data"
    }
   ],
   "source": [
    "# Check overfitting avec le max_depth\n",
    "tps = clock()\n",
    "accuracies = []\n",
    "max_depth = 50\n",
    "\n",
    "Xtr, Xte, Ytr, Yte = train_test_split(X,y, test_size = 0.2, random_state=42)\n",
    "tr_scores = []\n",
    "te_scores = []\n",
    "\n",
    "for depth in range(1,max_depth):\n",
    "    model = RandomForestClassifier(n_estimators=150, criterion ='entropy', max_depth = depth)\n",
    "    model.fit(Xtr,Ytr)\n",
    "    \n",
    "    train_probas = [proba[1] for proba in model.predict_proba(Xtr)]\n",
    "    test_probas = [proba[1] for proba in model.predict_proba(Xte)]\n",
    "    tr_score = roc_auc_score(Ytr,train_probas)\n",
    "    te_score = roc_auc_score(Yte,test_probas)\n",
    "    tr_scores.append(tr_score)\n",
    "    te_scores.append(te_score)\n",
    "\n",
    "print(\"Computation time: %.2fs\" %(clock()-tps))\n",
    "plt.plot(np.arange(1,max_depth),tr_scores,c = 'b',label = \"Train\")\n",
    "plt.plot(np.arange(1,max_depth),te_scores,c = 'r',label = \"Test\")\n",
    "plt.legend()\n",
    "plt.title(\"AUC on train and test sets wrt the depth of the trees\")\n",
    "plt.xlabel(\"max depth\")\n",
    "plt.ylabel(\"Accuracy\")"
   ]
  },
  {
   "cell_type": "code",
   "execution_count": null,
   "metadata": {
    "collapsed": true
   },
   "outputs": [],
   "source": []
  },
  {
   "cell_type": "code",
   "execution_count": null,
   "metadata": {
    "collapsed": true
   },
   "outputs": [],
   "source": []
  }
 ],
 "metadata": {
  "kernelspec": {
   "display_name": "Python 3",
   "language": "python",
   "name": "python3"
  },
  "language_info": {
   "codemirror_mode": {
    "name": "ipython",
    "version": 3
   },
   "file_extension": ".py",
   "mimetype": "text/x-python",
   "name": "python",
   "nbconvert_exporter": "python",
   "pygments_lexer": "ipython3",
   "version": "3.4.5"
  }
 },
 "nbformat": 4,
 "nbformat_minor": 1
}
