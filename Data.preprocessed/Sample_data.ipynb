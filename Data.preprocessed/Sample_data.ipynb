{
 "cells": [
  {
   "cell_type": "code",
   "execution_count": 1,
   "metadata": {},
   "outputs": [
    {
     "name": "stderr",
     "output_type": "stream",
     "text": [
      "C:\\Users\\Guillaume\\Anaconda2\\lib\\site-packages\\sklearn\\cross_validation.py:41: DeprecationWarning: This module was deprecated in version 0.18 in favor of the model_selection module into which all the refactored classes and functions are moved. Also note that the interface of the new CV iterators are different from that of this module. This module will be removed in 0.20.\n",
      "  \"This module will be removed in 0.20.\", DeprecationWarning)\n",
      "C:\\Users\\Guillaume\\Anaconda2\\lib\\site-packages\\sklearn\\grid_search.py:42: DeprecationWarning: This module was deprecated in version 0.18 in favor of the model_selection module into which all the refactored classes and functions are moved. This module will be removed in 0.20.\n",
      "  DeprecationWarning)\n"
     ]
    }
   ],
   "source": [
    "import matplotlib.pyplot as plt\n",
    "import pandas as pd\n",
    "import numpy as np\n",
    "from sklearn.cross_validation import train_test_split\n",
    "import os.path\n",
    "import re\n",
    "import seaborn as sns\n",
    "from matplotlib import cm as cm\n",
    "from sklearn.ensemble import RandomForestClassifier\n",
    "from sklearn.grid_search import GridSearchCV\n",
    "from sklearn.metrics import accuracy_score, roc_curve, roc_auc_score, confusion_matrix, recall_score, precision_recall_curve, average_precision_score\n",
    "from time import time\n",
    "import itertools\n",
    "from sklearn.model_selection import validation_curve, learning_curve\n",
    "\n",
    "%matplotlib inline"
   ]
  },
  {
   "cell_type": "code",
   "execution_count": 7,
   "metadata": {
    "collapsed": true
   },
   "outputs": [],
   "source": [
    "df_prep = pd.read_csv('preprocessed.csv',sep=';')\n",
    "df_train = pd.read_csv('train.csv',sep=';')\n",
    "df_test = pd.read_csv('test.csv',sep=';')"
   ]
  },
  {
   "cell_type": "code",
   "execution_count": 77,
   "metadata": {},
   "outputs": [],
   "source": []
  },
  {
   "cell_type": "code",
   "execution_count": 87,
   "metadata": {},
   "outputs": [],
   "source": [
    "def sample(n,df):\n",
    "    size_df = len(df)\n",
    "    percentage = float(n)/size_df\n",
    "    list_specialty = list(df.Specialty)\n",
    "    dict_specialty = {}\n",
    "    for spec in list_specialty :\n",
    "        try :\n",
    "            dict_specialty[spec]+=1\n",
    "        except :\n",
    "            dict_specialty[spec]=1\n",
    "    temp=pd.DataFrame()\n",
    "    for key in dict_specialty :\n",
    "        dict_specialty[key] = round(percentage*dict_specialty[key])\n",
    "        temp=pd.concat([temp,df[df.Specialty==key].sample(n=int(dict_specialty[key]))])\n",
    "    return temp\n",
    "\n"
   ]
  },
  {
   "cell_type": "code",
   "execution_count": 88,
   "metadata": {
    "collapsed": true
   },
   "outputs": [],
   "source": [
    "sample_prep = sample(100,df_prep)\n",
    "sample_train = sample(100,df_train)\n",
    "sample_test = sample(100,df_test)"
   ]
  }
 ],
 "metadata": {
  "kernelspec": {
   "display_name": "Python 2",
   "language": "python",
   "name": "python2"
  },
  "language_info": {
   "codemirror_mode": {
    "name": "ipython",
    "version": 2
   },
   "file_extension": ".py",
   "mimetype": "text/x-python",
   "name": "python",
   "nbconvert_exporter": "python",
   "pygments_lexer": "ipython2",
   "version": "2.7.13"
  }
 },
 "nbformat": 4,
 "nbformat_minor": 2
}
